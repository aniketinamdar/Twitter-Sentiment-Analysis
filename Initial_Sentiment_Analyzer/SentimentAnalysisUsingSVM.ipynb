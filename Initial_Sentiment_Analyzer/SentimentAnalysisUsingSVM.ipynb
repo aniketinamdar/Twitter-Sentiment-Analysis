{
  "nbformat": 4,
  "nbformat_minor": 0,
  "metadata": {
    "colab": {
      "provenance": [],
      "mount_file_id": "1n7GseeXn7tX-GHT7s818m7BkUbr9gTg5",
      "authorship_tag": "ABX9TyMpwaMASpFNwHA2taoG5f3G",
      "include_colab_link": true
    },
    "kernelspec": {
      "name": "python3",
      "display_name": "Python 3"
    },
    "language_info": {
      "name": "python"
    },
    "accelerator": "GPU",
    "gpuClass": "standard"
  },
  "cells": [
    {
      "cell_type": "markdown",
      "metadata": {
        "id": "view-in-github",
        "colab_type": "text"
      },
      "source": [
        "<a href=\"https://colab.research.google.com/github/aniketinamdar/Twitter-Sentiment-Analysis-using-Support-Vector-Machine-/blob/main/SentimentAnalysisUsingSVM.ipynb\" target=\"_parent\"><img src=\"https://colab.research.google.com/assets/colab-badge.svg\" alt=\"Open In Colab\"/></a>"
      ]
    },
    {
      "cell_type": "markdown",
      "source": [
        "##Importing the necessary libraries\n",
        "\n"
      ],
      "metadata": {
        "id": "0joYkn8st1eI"
      }
    },
    {
      "cell_type": "code",
      "execution_count": 1,
      "metadata": {
        "id": "Zu1xjlPAtJ7S"
      },
      "outputs": [],
      "source": [
        "import pandas as pd\n",
        "import numpy as np"
      ]
    },
    {
      "cell_type": "code",
      "source": [
        "from sklearn.model_selection import train_test_split"
      ],
      "metadata": {
        "id": "SbrS-6IOtqCw"
      },
      "execution_count": 2,
      "outputs": []
    },
    {
      "cell_type": "code",
      "source": [
        "from sklearn.feature_extraction.text import TfidfVectorizer"
      ],
      "metadata": {
        "id": "SORL6ktS2Qz-"
      },
      "execution_count": 3,
      "outputs": []
    },
    {
      "cell_type": "code",
      "source": [
        "import time\n",
        "from sklearn import svm\n",
        "from sklearn.metrics import classification_report"
      ],
      "metadata": {
        "id": "_Sni3CXY3Mil"
      },
      "execution_count": 4,
      "outputs": []
    },
    {
      "cell_type": "code",
      "source": [
        "import pickle"
      ],
      "metadata": {
        "id": "m7pfnYRKFriA"
      },
      "execution_count": 5,
      "outputs": []
    },
    {
      "cell_type": "markdown",
      "source": [
        "##Reading the csv file"
      ],
      "metadata": {
        "id": "Qe4U4BFO6J-L"
      }
    },
    {
      "cell_type": "code",
      "source": [
        "df = pd.read_csv('/content/drive/MyDrive/Dataset/Twitter_Data.csv',nrows=40000)"
      ],
      "metadata": {
        "id": "Pb6f1nXU-lGn"
      },
      "execution_count": 6,
      "outputs": []
    },
    {
      "cell_type": "code",
      "source": [
        "df.size"
      ],
      "metadata": {
        "colab": {
          "base_uri": "https://localhost:8080/"
        },
        "id": "jHHgYNaGuRHu",
        "outputId": "75e239f0-b119-4d4a-a461-26666446cf08"
      },
      "execution_count": 7,
      "outputs": [
        {
          "output_type": "execute_result",
          "data": {
            "text/plain": [
              "80000"
            ]
          },
          "metadata": {},
          "execution_count": 7
        }
      ]
    },
    {
      "cell_type": "code",
      "source": [
        "df.shape"
      ],
      "metadata": {
        "id": "F4qFfUwpCOSC",
        "colab": {
          "base_uri": "https://localhost:8080/"
        },
        "outputId": "79441f31-8680-4f38-a1e8-26537f9e4894"
      },
      "execution_count": 8,
      "outputs": [
        {
          "output_type": "execute_result",
          "data": {
            "text/plain": [
              "(40000, 2)"
            ]
          },
          "metadata": {},
          "execution_count": 8
        }
      ]
    },
    {
      "cell_type": "code",
      "source": [
        "df.head"
      ],
      "metadata": {
        "colab": {
          "base_uri": "https://localhost:8080/"
        },
        "id": "XUFX1fZauUUH",
        "outputId": "e3e2a4ba-f385-4f4e-9e05-8e73f881a11d"
      },
      "execution_count": 9,
      "outputs": [
        {
          "output_type": "execute_result",
          "data": {
            "text/plain": [
              "<bound method NDFrame.head of                                               clean_text  category\n",
              "0      when modi promised “minimum government maximum...        -1\n",
              "1      talk all the nonsense and continue all the dra...         0\n",
              "2      what did just say vote for modi  welcome bjp t...         1\n",
              "3      asking his supporters prefix chowkidar their n...         1\n",
              "4      answer who among these the most powerful world...         1\n",
              "...                                                  ...       ...\n",
              "39995  these shameless took years understand what gst...         0\n",
              "39996  and forget civil war any anti national naxal a...         1\n",
              "39997  legitimate arrest antony making nirav modi vij...        -1\n",
              "39998  yes have put jail from last last 3yr work only...         1\n",
              "39999  enquiring about the health senior citizen the ...         1\n",
              "\n",
              "[40000 rows x 2 columns]>"
            ]
          },
          "metadata": {},
          "execution_count": 9
        }
      ]
    },
    {
      "cell_type": "markdown",
      "source": [
        "##Data preprocessing"
      ],
      "metadata": {
        "id": "cpFCAav26Sw6"
      }
    },
    {
      "cell_type": "code",
      "source": [
        "df.fillna(0, inplace=True)"
      ],
      "metadata": {
        "id": "lO0ctycl4rQn"
      },
      "execution_count": 10,
      "outputs": []
    },
    {
      "cell_type": "markdown",
      "source": [
        "##Test train data split"
      ],
      "metadata": {
        "id": "gDP5VNCz6Pnx"
      }
    },
    {
      "cell_type": "code",
      "source": [
        "train, test = train_test_split(df, test_size=0.2)"
      ],
      "metadata": {
        "id": "NN5vEdUJ06tJ"
      },
      "execution_count": 11,
      "outputs": []
    },
    {
      "cell_type": "code",
      "source": [
        "vectorizer = TfidfVectorizer(min_df = 5,\n",
        "                             max_df = 0.8,\n",
        "                             sublinear_tf = True,\n",
        "                             use_idf = True)\n",
        "train_vectors = vectorizer.fit_transform(train['clean_text'].values.astype('U'))\n",
        "test_vectors = vectorizer.transform(test['clean_text'].values.astype('U'))"
      ],
      "metadata": {
        "id": "dhg_MopR2CT0"
      },
      "execution_count": 12,
      "outputs": []
    },
    {
      "cell_type": "code",
      "source": [
        "classifier_linear = svm.SVC(kernel='linear')"
      ],
      "metadata": {
        "id": "UfLXv8nf2btd"
      },
      "execution_count": 13,
      "outputs": []
    },
    {
      "cell_type": "code",
      "source": [
        "t0 = time.time()\n",
        "classifier_linear.fit(train_vectors, train['category'])\n",
        "t1 = time.time()\n",
        "prediction_linear = classifier_linear.predict(test_vectors)\n",
        "t2 = time.time()"
      ],
      "metadata": {
        "id": "WxwQvp2I3f6L"
      },
      "execution_count": 14,
      "outputs": []
    },
    {
      "cell_type": "code",
      "source": [
        "time_linear_train = t1-t0\n",
        "time_linear_predict = t2-t1"
      ],
      "metadata": {
        "id": "7D2EeCAu3sYc"
      },
      "execution_count": 15,
      "outputs": []
    },
    {
      "cell_type": "code",
      "source": [
        "print(\"Training time: %fs; Prediction time: %fs\" % (time_linear_train, time_linear_predict))\n",
        "report = classification_report(test['category'], prediction_linear, output_dict=True)\n",
        "print('positive: ', report['1'])\n",
        "print('neutral: ', report['0'])\n",
        "print('negative: ', report['-1'])"
      ],
      "metadata": {
        "id": "Stk3kx2N67h2",
        "colab": {
          "base_uri": "https://localhost:8080/"
        },
        "outputId": "5eaafcff-db72-42ae-8eb4-05a31bd84fdb"
      },
      "execution_count": 16,
      "outputs": [
        {
          "output_type": "stream",
          "name": "stdout",
          "text": [
            "Training time: 257.883830s; Prediction time: 23.335717s\n",
            "positive:  {'precision': 0.9230999401555955, 'recall': 0.9108355476823148, 'f1-score': 0.9169267350274929, 'support': 3387}\n",
            "neutral:  {'precision': 0.9067075246850528, 'recall': 0.9733187134502924, 'f1-score': 0.9388330689229685, 'support': 2736}\n",
            "negative:  {'precision': 0.8878558977338756, 'recall': 0.8140649973361748, 'f1-score': 0.849360755975542, 'support': 1877}\n"
          ]
        }
      ]
    },
    {
      "cell_type": "code",
      "source": [
        "query = input(\"Enter a text : \")\n",
        "review = query\n",
        "review_vector = vectorizer.transform([review]) \n",
        "if classifier_linear.predict(review_vector)==0:\n",
        "  print(\"Neutral\")\n",
        "elif classifier_linear.predict(review_vector)==1:\n",
        "  print(\"Positive\")\n",
        "elif classifier_linear.predict(review_vector)==-1:\n",
        "  print(\"Negative\")"
      ],
      "metadata": {
        "id": "33EYAmr-6u1E",
        "colab": {
          "base_uri": "https://localhost:8080/"
        },
        "outputId": "48b5f20c-8323-4c53-82d9-9e3a604e1216"
      },
      "execution_count": 30,
      "outputs": [
        {
          "output_type": "stream",
          "name": "stdout",
          "text": [
            "Enter a text : good boy\n",
            "Positive\n"
          ]
        }
      ]
    },
    {
      "cell_type": "markdown",
      "source": [
        "##Loading the model"
      ],
      "metadata": {
        "id": "bjWhvHQ9Ikyj"
      }
    },
    {
      "cell_type": "code",
      "source": [
        "pickle.dump(vectorizer, open('vectorizer.sav', 'wb'))\n",
        "pickle.dump(classifier_linear, open('classifier.sav', 'wb'))"
      ],
      "metadata": {
        "id": "5djWQU3sDROR"
      },
      "execution_count": 19,
      "outputs": []
    }
  ]
}